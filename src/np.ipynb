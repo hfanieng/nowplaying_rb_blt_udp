{
 "cells": [
  {
   "cell_type": "code",
   "execution_count": 1,
   "metadata": {},
   "outputs": [
    {
     "ename": "OSError",
     "evalue": "[Errno 48] Address already in use",
     "output_type": "error",
     "traceback": [
      "\u001b[0;31m---------------------------------------------------------------------------\u001b[0m",
      "\u001b[0;31mOSError\u001b[0m                                   Traceback (most recent call last)",
      "Cell \u001b[0;32mIn[1], line 34\u001b[0m\n\u001b[1;32m     31\u001b[0m     \u001b[38;5;28;01mfinally\u001b[39;00m:\n\u001b[1;32m     32\u001b[0m         sock\u001b[38;5;241m.\u001b[39mclose()  \u001b[38;5;66;03m# Socket schließen\u001b[39;00m\n\u001b[0;32m---> 34\u001b[0m \u001b[43msocket_receiver\u001b[49m\u001b[43m(\u001b[49m\u001b[43m)\u001b[49m\n\u001b[1;32m     36\u001b[0m \u001b[38;5;66;03m#t = threading.Thread(target=socket_receiver)\u001b[39;00m\n\u001b[1;32m     37\u001b[0m \u001b[38;5;66;03m#t.start()\u001b[39;00m\n\u001b[1;32m     38\u001b[0m \u001b[38;5;66;03m#print(\"Thread gestartet\")\u001b[39;00m\n\u001b[1;32m     39\u001b[0m \u001b[38;5;66;03m#t.join()  # Warten, bis der Thread beendet ist\u001b[39;00m\n",
      "Cell \u001b[0;32mIn[1], line 10\u001b[0m, in \u001b[0;36msocket_receiver\u001b[0;34m()\u001b[0m\n\u001b[1;32m      8\u001b[0m sock \u001b[38;5;241m=\u001b[39m socket\u001b[38;5;241m.\u001b[39msocket(socket\u001b[38;5;241m.\u001b[39mAF_INET, socket\u001b[38;5;241m.\u001b[39mSOCK_DGRAM)\n\u001b[1;32m      9\u001b[0m port \u001b[38;5;241m=\u001b[39m \u001b[38;5;241m7000\u001b[39m\n\u001b[0;32m---> 10\u001b[0m \u001b[43msock\u001b[49m\u001b[38;5;241;43m.\u001b[39;49m\u001b[43mbind\u001b[49m\u001b[43m(\u001b[49m\u001b[43m(\u001b[49m\u001b[38;5;124;43m'\u001b[39;49m\u001b[38;5;124;43m'\u001b[39;49m\u001b[43m,\u001b[49m\u001b[43m \u001b[49m\u001b[43mport\u001b[49m\u001b[43m)\u001b[49m\u001b[43m)\u001b[49m\n\u001b[1;32m     11\u001b[0m \u001b[38;5;28mprint\u001b[39m(\u001b[38;5;124m\"\u001b[39m\u001b[38;5;124mSocket verbunden mit Port\u001b[39m\u001b[38;5;124m\"\u001b[39m, port)\n\u001b[1;32m     12\u001b[0m receiving \u001b[38;5;241m=\u001b[39m \u001b[38;5;28;01mTrue\u001b[39;00m\n",
      "\u001b[0;31mOSError\u001b[0m: [Errno 48] Address already in use"
     ]
    }
   ],
   "source": [
    "import socket\n",
    "import json\n",
    "\n",
    "# Funktion zum Empfangen von Daten über einen UDP-Socket\n",
    "\n",
    "def socket_receiver():\n",
    "    # Erstellen eines UDP-Sockets\n",
    "    sock = socket.socket(socket.AF_INET, socket.SOCK_DGRAM)\n",
    "    port = 7000\n",
    "    sock.bind(('', port))\n",
    "    print(\"Socket verbunden mit Port\", port)\n",
    "    receiving = True\n",
    "\n",
    "    try:\n",
    "        while receiving:\n",
    "            \n",
    "            print('\\nWarten auf eine Nachricht')\n",
    "            data, address = sock.recvfrom(4096)\n",
    "            print('Erhaltene {} Bytes von {}'.format(len(data), address))\n",
    "\n",
    "            try:\n",
    "                json_data = json.loads(data)  # Daten dekodieren\n",
    "                print(\"JSON-Daten erfolgreich dekodiert:\", json_data)\n",
    "\n",
    "                # Zugriff auf den Wert von 'trackArtist' und Aktualisierung von 'interpret'\n",
    "                interpret = json_data.get('trackArtist', '')\n",
    "\n",
    "            except json.JSONDecodeError as e:\n",
    "                print(\"Fehler beim Dekodieren der JSON-Daten:\", e)\n",
    "\n",
    "    finally:\n",
    "        sock.close()  # Socket schließen\n",
    "\n",
    "socket_receiver()\n",
    "\n",
    "#t = threading.Thread(target=socket_receiver)\n",
    "#t.start()\n",
    "#print(\"Thread gestartet\")\n",
    "#t.join()  # Warten, bis der Thread beendet ist\n"
   ]
  }
 ],
 "metadata": {
  "kernelspec": {
   "display_name": "Python 3",
   "language": "python",
   "name": "python3"
  },
  "language_info": {
   "codemirror_mode": {
    "name": "ipython",
    "version": 3
   },
   "file_extension": ".py",
   "mimetype": "text/x-python",
   "name": "python",
   "nbconvert_exporter": "python",
   "pygments_lexer": "ipython3",
   "version": "3.12.4"
  }
 },
 "nbformat": 4,
 "nbformat_minor": 2
}
