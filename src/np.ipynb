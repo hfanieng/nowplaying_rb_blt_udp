{
 "cells": [
  {
   "cell_type": "code",
   "execution_count": null,
   "metadata": {},
   "outputs": [],
   "source": [
    "import socket\n",
    "import json\n",
    "\n",
    "# Funktion zum Empfangen von Daten über einen UDP-Socket\n",
    "\n",
    "def socket_receiver():\n",
    "    # Erstellen eines UDP-Sockets\n",
    "    sock = socket.socket(socket.AF_INET, socket.SOCK_DGRAM)\n",
    "    port = 7000\n",
    "    sock.bind(('', port))\n",
    "    print(\"Socket verbunden mit Port\", port)\n",
    "    receiving = True\n",
    "\n",
    "    try:\n",
    "        while receiving:\n",
    "            \n",
    "            print('\\nWarten auf eine Nachricht')\n",
    "            data, address = sock.recvfrom(4096)\n",
    "            print('Erhaltene {} Bytes von {}'.format(len(data), address))\n",
    "\n",
    "            try:\n",
    "                json_data = json.loads(data)  # Daten dekodieren\n",
    "                print(\"JSON-Daten erfolgreich dekodiert:\", json_data)\n",
    "\n",
    "                # Zugriff auf den Wert von 'trackArtist' und Aktualisierung von 'interpret'\n",
    "                interpret = json_data.get('trackArtist', '')\n",
    "\n",
    "            except json.JSONDecodeError as e:\n",
    "                print(\"Fehler beim Dekodieren der JSON-Daten:\", e)\n",
    "\n",
    "    finally:\n",
    "        sock.close()  # Socket schließen\n",
    "\n",
    "socket_receiver()\n",
    "\n",
    "#t = threading.Thread(target=socket_receiver)\n",
    "#t.start()\n",
    "#print(\"Thread gestartet\")\n",
    "#t.join()  # Warten, bis der Thread beendet ist\n"
   ]
  }
 ],
 "metadata": {
  "kernelspec": {
   "display_name": "Python 3",
   "language": "python",
   "name": "python3"
  },
  "language_info": {
   "codemirror_mode": {
    "name": "ipython",
    "version": 3
   },
   "file_extension": ".py",
   "mimetype": "text/x-python",
   "name": "python",
   "nbconvert_exporter": "python",
   "pygments_lexer": "ipython3",
   "version": "3.12.4"
  }
 },
 "nbformat": 4,
 "nbformat_minor": 2
}
